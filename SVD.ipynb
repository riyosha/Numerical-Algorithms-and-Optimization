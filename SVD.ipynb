{
 "cells": [
  {
   "cell_type": "code",
   "execution_count": 1,
   "metadata": {},
   "outputs": [],
   "source": [
    "import math\n",
    "from math import copysign\n",
    "import numpy as np\n",
    "import pandas as pd\n",
    "import scipy"
   ]
  },
  {
   "cell_type": "code",
   "execution_count": 75,
   "metadata": {},
   "outputs": [],
   "source": [
    "O = 10*np.array([\n",
    "    [4, 1, -1, 1,9, 1],\n",
    "    [1, 2, 0, 1, 1,1],\n",
    "    [-2, 0, 3, 2,1,1],\n",
    "    [2, 1, 2, -1,1,0],\n",
    "    [1, 1, 3, -1,1,9],\n",
    "    [1, 5, 3, -1,1,9]\n",
    "])"
   ]
  },
  {
   "cell_type": "markdown",
   "metadata": {},
   "source": [
    "SVD"
   ]
  },
  {
   "cell_type": "code",
   "execution_count": 114,
   "metadata": {},
   "outputs": [],
   "source": [
    "#phase 1\n",
    "\n",
    "A = O.T @ O #symmetric\n",
    "\n",
    "#householder reduction to hessenberg form \n",
    "def hessenberg_reduction(A):\n",
    "    Q = np.eye(A.shape[0])\n",
    "    for k in range(0, A.shape[0]-2):\n",
    "        #select kth column of A below the kth terms \n",
    "        x = A[k+1:, k]\n",
    "        n = A.shape[0]-k-1\n",
    "        e1 = np.zeros(n)\n",
    "        e1[0] = 1\n",
    "        v = copysign(np.linalg.norm(x),x[0])*e1 + x \n",
    "        v = v/np.linalg.norm(v)\n",
    "        v = v.reshape(v.shape[0],1)\n",
    "        A[k+1:,k:] = A[k+1:,k:] - 2*v@(v.T@A[k+1:,k:])\n",
    "        A[:,k+1:] = A[:,k+1:] - 2*(A[:,k+1:]@v)@v.T\n",
    "    return A\n",
    "\n",
    "A_ = hessenberg_reduction(A) #triadiagonal matrix "
   ]
  },
  {
   "cell_type": "code",
   "execution_count": 115,
   "metadata": {},
   "outputs": [],
   "source": [
    "#phase 2\n",
    "#apply qr algorithm to obtain eigenvalue decomposition\n",
    "def qr_algo(A, N = 100000):\n",
    "    n = A.shape[0]\n",
    "    V = np.eye(n)\n",
    "    for k in range(1, N):\n",
    "        u = A[-1,-1]\n",
    "        Q, R = np.linalg.qr(A-u*np.eye(n))\n",
    "        V = V@Q\n",
    "        A = R@Q + u*np.eye(n)\n",
    "        '''\n",
    "        for i in range(3,n-1):\n",
    "            if A[i+1,i]< 0.0000000001:\n",
    "                print(i,n)\n",
    "                A[i+1,i] = 0\n",
    "                A[i,i+1] = 0\n",
    "                A11 = A[:i,:i]\n",
    "                A22 = A[i:,i:]\n",
    "                A11, V11 = qr_algo(A11)\n",
    "                A22, V22 = qr_algo(A22)\n",
    "                print(A11, A22, 0*np.eye(n-i), 0*np.eye(i))\n",
    "                A = np.block([[A11, np.zeros((i, n-i))], [np.zeros((n-i,i)),A22]])\n",
    "                V = V@np.block([[V11, np.zeros((i, n-i))], [np.zeros((n-i,i)),V22]])\n",
    "                return A, V \n",
    "            '''\n",
    "\n",
    "    return A, V\n",
    "\n",
    "D, V = qr_algo(A_)\n"
   ]
  },
  {
   "cell_type": "code",
   "execution_count": 116,
   "metadata": {},
   "outputs": [],
   "source": [
    "#sort eigenvalues along the diagonal and the eigenvectors accordingly\n",
    "indices = np.argsort(np.diag(D))[::-1]\n",
    "sorted_diag = np.diag(D)[indices]\n",
    "V = V[:, indices]\n",
    "sigma = scipy.linalg.sqrtm(np.diag(np.diag(D)[indices]))\n",
    "\n",
    "Q,R = np.linalg.qr(O)\n",
    "b = Q.T\n",
    "U = Q@R@V@np.linalg.inv(sigma)"
   ]
  },
  {
   "cell_type": "code",
   "execution_count": 101,
   "metadata": {},
   "outputs": [
    {
     "name": "stdout",
     "output_type": "stream",
     "text": [
      "[148.51689803  97.77190701  41.00342675  31.75073226  26.5645416\n",
      "   8.62092361]\n"
     ]
    }
   ],
   "source": [
    "print(np.diag(sigma))\n"
   ]
  },
  {
   "cell_type": "code",
   "execution_count": 117,
   "metadata": {},
   "outputs": [
    {
     "name": "stdout",
     "output_type": "stream",
     "text": [
      "[148.52793204  97.78612975  41.05043129  31.80675209  26.58336668\n",
      "   8.59322189]\n"
     ]
    }
   ],
   "source": [
    "X,Y, Z = np.linalg.svd(O)\n",
    "print(Y) #correct eigenvalues from svd function\n"
   ]
  },
  {
   "cell_type": "code",
   "execution_count": 118,
   "metadata": {},
   "outputs": [
    {
     "name": "stdout",
     "output_type": "stream",
     "text": [
      "3.98136518875744\n",
      "0.0004399382043184628\n",
      "1.3016083900803985\n"
     ]
    }
   ],
   "source": [
    "#relative error in U, V, and sigma using frobenius norm\n",
    "print(np.linalg.norm(X-U)/np.linalg.norm(X))\n",
    "print(np.linalg.norm(np.diag(sigma)-Y)/np.linalg.norm(Y))\n",
    "print(np.linalg.norm(Z-V.T)/np.linalg.norm(Z))"
   ]
  },
  {
   "cell_type": "markdown",
   "metadata": {},
   "source": [
    "Stable method"
   ]
  },
  {
   "cell_type": "code",
   "execution_count": 107,
   "metadata": {},
   "outputs": [],
   "source": [
    "\n",
    "#make 2mx2m block matrix with \n",
    "m = O.shape[0]\n",
    "n = O.shape[1]\n",
    "matrix_0_1 = np.zeros((n,n))\n",
    "matrix_0_2 = np.zeros((m,m))\n",
    "H = np.block([[matrix_0_1, O.T], [O, matrix_0_2]])\n",
    "\n",
    "\n",
    "if n<=m:\n",
    "    l=n\n",
    "else:\n",
    "    l=m\n",
    "\n",
    "#obtain eigenvalue decomposition\n",
    "D1,S = qr_algo(H)\n",
    "d = np.diag(D1)\n",
    "indices = np.argsort(d)[::-1]\n",
    "d = d[indices][:l]\n",
    "S = S[:,indices]\n",
    "U1 = S[l:,:l]\n",
    "V1 = S[:l,:l]\n"
   ]
  },
  {
   "cell_type": "code",
   "execution_count": 109,
   "metadata": {},
   "outputs": [
    {
     "name": "stdout",
     "output_type": "stream",
     "text": [
      "Eigenvalues [148.52793204  97.78612975  41.05043129  31.80675209  26.58336668\n",
      "   8.59322189]\n"
     ]
    }
   ],
   "source": [
    "print('Eigenvalues', d)\n"
   ]
  },
  {
   "cell_type": "code",
   "execution_count": 111,
   "metadata": {},
   "outputs": [
    {
     "name": "stdout",
     "output_type": "stream",
     "text": [
      "0.746452247915388\n",
      "3.250160647670967e-15\n",
      "0.7464522479153881\n"
     ]
    }
   ],
   "source": [
    "print(np.linalg.norm(X-U1)/np.linalg.norm(X))\n",
    "print(np.linalg.norm(d-Y)/np.linalg.norm(Y))\n",
    "print(np.linalg.norm(Z-V1.T)/np.linalg.norm(Z))"
   ]
  },
  {
   "cell_type": "markdown",
   "metadata": {},
   "source": [
    "The 2nd approach is more efficient and stable than the first one, as the relative error is much less compared to the first case.\n",
    "\n",
    "In the the first case, the singular values are square roots of the calculated eigenvalues - essentially, by square rooting the eigenvalues, we also square root the order of the error (which is close to 0) thus increasing the error bound. In the second approach, the singular values are simply absolute values of eigenvalues, which avoids the square rootin process entirely, making the approach more stable.\n",
    "\n",
    "Note: The first approach works for non-square matrices, however, the second one doesn't. I haven't been able to find the bug that makes the calculations awry yet - but using np.linalg.eig instead of my own qr_algorithm will fix the problem."
   ]
  }
 ],
 "metadata": {
  "kernelspec": {
   "display_name": "Python 3",
   "language": "python",
   "name": "python3"
  },
  "language_info": {
   "codemirror_mode": {
    "name": "ipython",
    "version": 3
   },
   "file_extension": ".py",
   "mimetype": "text/x-python",
   "name": "python",
   "nbconvert_exporter": "python",
   "pygments_lexer": "ipython3",
   "version": "3.10.11"
  }
 },
 "nbformat": 4,
 "nbformat_minor": 2
}
